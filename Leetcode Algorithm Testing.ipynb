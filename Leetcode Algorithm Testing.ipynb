{
 "cells": [
  {
   "cell_type": "markdown",
   "metadata": {},
   "source": [
    "# LeetCode Problem"
   ]
  },
  {
   "cell_type": "markdown",
   "metadata": {},
   "source": [
    "## Medium题目"
   ]
  },
  {
   "cell_type": "markdown",
   "metadata": {},
   "source": [
    "### 和为n的所有可能组合结果"
   ]
  },
  {
   "cell_type": "code",
   "execution_count": 26,
   "metadata": {},
   "outputs": [],
   "source": [
    "def combinationSum3(k,n):\n",
    "    nums = [i for i in range(1,10)]\n",
    "    sumn = 0\n",
    "    res = []\n",
    "    def dfs(nums,k,sumn,output):\n",
    "        if sumn == n and k == 0:\n",
    "            res.append(output)\n",
    "            print(res)\n",
    "        for i in range(len(nums)):\n",
    "            if sumn < n and k>0:\n",
    "                dfs(nums[i+1: ],k-1,sumn +nums[i],output+[nums[i]])\n",
    "            else:\n",
    "                return\n",
    "    dfs(nums,k,sumn,[])\n",
    "    print(output)\n",
    "    return res"
   ]
  },
  {
   "cell_type": "code",
   "execution_count": 28,
   "metadata": {
    "scrolled": false
   },
   "outputs": [
    {
     "name": "stdout",
     "output_type": "stream",
     "text": [
      "[[1, 2, 9]]\n",
      "[[1, 2, 9], [1, 3, 8]]\n",
      "[[1, 2, 9], [1, 3, 8], [1, 4, 7]]\n",
      "[[1, 2, 9], [1, 3, 8], [1, 4, 7], [1, 5, 6]]\n",
      "[[1, 2, 9], [1, 3, 8], [1, 4, 7], [1, 5, 6], [2, 3, 7]]\n",
      "[[1, 2, 9], [1, 3, 8], [1, 4, 7], [1, 5, 6], [2, 3, 7], [2, 4, 6]]\n",
      "[[1, 2, 9], [1, 3, 8], [1, 4, 7], [1, 5, 6], [2, 3, 7], [2, 4, 6], [3, 4, 5]]\n",
      "[1, 2, 3, 4, 5, 6, 7, 8, 9]\n"
     ]
    },
    {
     "data": {
      "text/plain": [
       "[[1, 2, 9], [1, 3, 8], [1, 4, 7], [1, 5, 6], [2, 3, 7], [2, 4, 6], [3, 4, 5]]"
      ]
     },
     "execution_count": 28,
     "metadata": {},
     "output_type": "execute_result"
    }
   ],
   "source": [
    "combinationSum3(3,12)"
   ]
  },
  {
   "cell_type": "code",
   "execution_count": 46,
   "metadata": {},
   "outputs": [
    {
     "name": "stdout",
     "output_type": "stream",
     "text": [
      "1 2\n",
      "1 2\n",
      "1 2\n"
     ]
    }
   ],
   "source": [
    "k=3\n",
    "a=0\n",
    "for i in range(1,5):\n",
    "    if k>2:\n",
    "        a = a+ i\n",
    "        k = k-1\n",
    "    else:\n",
    "        print(a,k)"
   ]
  },
  {
   "cell_type": "code",
   "execution_count": 30,
   "metadata": {},
   "outputs": [
    {
     "name": "stdout",
     "output_type": "stream",
     "text": [
      "[1]\n",
      "[[1]]\n",
      "[1, 2]\n",
      "[[1], [1, 2]]\n",
      "[1, 2, 3]\n",
      "[[1], [1, 2], [1, 2, 3]]\n",
      "[1, 2, 3, 4]\n",
      "[[1], [1, 2], [1, 2, 3], [1, 2, 3, 4]]\n",
      "[1, 2, 3, 4, 5]\n",
      "[[1], [1, 2], [1, 2, 3], [1, 2, 3, 4], [1, 2, 3, 4, 5]]\n",
      "[1, 2, 3, 4, 5, 6]\n",
      "[[1], [1, 2], [1, 2, 3], [1, 2, 3, 4], [1, 2, 3, 4, 5], [1, 2, 3, 4, 5, 6]]\n",
      "[1, 2, 3, 4, 5, 6, 7]\n",
      "[[1], [1, 2], [1, 2, 3], [1, 2, 3, 4], [1, 2, 3, 4, 5], [1, 2, 3, 4, 5, 6], [1, 2, 3, 4, 5, 6, 7]]\n",
      "[1, 2, 3, 4, 5, 6, 7, 8]\n",
      "[[1], [1, 2], [1, 2, 3], [1, 2, 3, 4], [1, 2, 3, 4, 5], [1, 2, 3, 4, 5, 6], [1, 2, 3, 4, 5, 6, 7], [1, 2, 3, 4, 5, 6, 7, 8]]\n",
      "[1, 2, 3, 4, 5, 6, 7, 8, 9]\n",
      "[[1], [1, 2], [1, 2, 3], [1, 2, 3, 4], [1, 2, 3, 4, 5], [1, 2, 3, 4, 5, 6], [1, 2, 3, 4, 5, 6, 7], [1, 2, 3, 4, 5, 6, 7, 8], [1, 2, 3, 4, 5, 6, 7, 8, 9]]\n"
     ]
    }
   ],
   "source": [
    "nums = [i for i in range(1,10)]\n",
    "output = []\n",
    "res = []\n",
    "for i in range(len(nums)):  \n",
    "    output = output + [nums[i]]\n",
    "    print(output)\n",
    "    res.append(output)\n",
    "    print(res)"
   ]
  },
  {
   "cell_type": "code",
   "execution_count": 211,
   "metadata": {},
   "outputs": [
    {
     "name": "stdout",
     "output_type": "stream",
     "text": [
      "a\n",
      "b\n",
      "c\n",
      "{'a': 2, 'b': 2, 'c': 0}\n"
     ]
    },
    {
     "data": {
      "text/plain": [
       "['a', 'b']"
      ]
     },
     "execution_count": 211,
     "metadata": {},
     "output_type": "execute_result"
    }
   ],
   "source": [
    "def mapping(str):\n",
    "    freq = {}\n",
    "    for i in str:\n",
    "        if (i in freq):\n",
    "            freq[i] +=1\n",
    "        else:\n",
    "            freq[i] =1\n",
    "    for k,v in freq.items():\n",
    "        print(k)\n",
    "        if (v%2!=0):\n",
    "            middle = k\n",
    "    tmp = ''\n",
    "    # delete 1 k from str\n",
    "    freq[k] = freq.get(k) - 1\n",
    "    print(freq)\n",
    "    \n",
    "    # create rest_list\n",
    "    for k,v in freq.items():\n",
    "        freq[k] = freq.get(k,0)//2\n",
    "        tmp+=freq[k]*k        \n",
    "        rest_list = list(tmp)\n",
    "    return rest_list\n",
    "    \n",
    "str = 'aabbc'\n",
    "mapping(str)\n"
   ]
  },
  {
   "cell_type": "code",
   "execution_count": 265,
   "metadata": {},
   "outputs": [
    {
     "name": "stdout",
     "output_type": "stream",
     "text": [
      "a\n",
      "b\n",
      "c\n",
      "{'a': 4, 'b': 2, 'c': 0}\n"
     ]
    },
    {
     "data": {
      "text/plain": [
       "['a', 'a', 'b']"
      ]
     },
     "execution_count": 265,
     "metadata": {},
     "output_type": "execute_result"
    }
   ],
   "source": [
    "def mapping(str):\n",
    "    freq = {}\n",
    "    for i in str:\n",
    "        freq[i] = freq.get(i, 0)+1\n",
    "    for k,v in freq.items():\n",
    "        print(k)\n",
    "        if v % 2 != 0:\n",
    "            middle = k\n",
    "    tmp = ''\n",
    "    # delete 1 k from str\n",
    "    freq[k] = freq.get(k) - 1\n",
    "    print(freq)\n",
    "    \n",
    "    # create rest_list\n",
    "    for k,v in freq.items():\n",
    "        freq[k] = freq.get(k,0)//2\n",
    "        tmp+=freq[k]*k        \n",
    "        rest_list = list(tmp)\n",
    "    return rest_list\n",
    "    \n",
    "str = 'aaaabbc'\n",
    "mapping(str)"
   ]
  },
  {
   "cell_type": "code",
   "execution_count": 249,
   "metadata": {},
   "outputs": [
    {
     "name": "stdout",
     "output_type": "stream",
     "text": [
      "a\n",
      "b\n",
      "c\n",
      "{'a': 2, 'b': 2, 'c': 0}\n"
     ]
    },
    {
     "data": {
      "text/plain": [
       "2"
      ]
     },
     "execution_count": 249,
     "metadata": {},
     "output_type": "execute_result"
    }
   ],
   "source": [
    "len(mapping(str))"
   ]
  },
  {
   "cell_type": "code",
   "execution_count": 262,
   "metadata": {},
   "outputs": [
    {
     "name": "stdout",
     "output_type": "stream",
     "text": [
      "a\n",
      "b\n",
      "c\n",
      "{'a': 2, 'b': 2, 'c': 0}\n"
     ]
    }
   ],
   "source": [
    "c = mapping(str)\n",
    "def check(c):\n",
    "    rs = []\n",
    "    a = mapping(str)\n",
    "    n = len(mapping(str))\n",
    "    def permutation(a,n,cur): \n",
    "        b = a.copy() \n",
    "        cur = 0\n",
    "        if n==cur:\n",
    "            rs.append(b)\n",
    "        else:\n",
    "            for i in c:\n",
    "                if i not in b:\n",
    "                    b[cur] = i\n",
    "                    permutation(b,n,cur+1)            \n",
    "    return rs\n"
   ]
  },
  {
   "cell_type": "code",
   "execution_count": 271,
   "metadata": {},
   "outputs": [],
   "source": [
    "# permutation\n",
    "output = []\n",
    "ans = []\n",
    "size = len(rest_list)\n",
    "def dfs(rest_list, output):\n",
    "    if len(output) == size:\n",
    "        ans.append(''.join(output)+middle+''.join(output[::-1]))\n",
    "    else:\n",
    "        for i in range(len(rest_list)):\n",
    "            if i > 0 and rest_list[i] == rest_list[i-1]:\n",
    "                #avoid repeated combination\n",
    "                continue \n",
    "            dfs(rest_list[:i] + rest_list[i+1:], output + [rest_list[i]])\n",
    "    \n",
    "            dfs(rest_list, [])\n",
    "\n",
    "        return ans"
   ]
  },
  {
   "cell_type": "code",
   "execution_count": 272,
   "metadata": {
    "scrolled": true
   },
   "outputs": [
    {
     "ename": "TypeError",
     "evalue": "dfs() missing 1 required positional argument: 'output'",
     "output_type": "error",
     "traceback": [
      "\u001b[1;31m---------------------------------------------------------------------------\u001b[0m",
      "\u001b[1;31mTypeError\u001b[0m                                 Traceback (most recent call last)",
      "\u001b[1;32m<ipython-input-272-d546fbc74df8>\u001b[0m in \u001b[0;36m<module>\u001b[1;34m()\u001b[0m\n\u001b[1;32m----> 1\u001b[1;33m \u001b[0mdfs\u001b[0m\u001b[1;33m(\u001b[0m\u001b[0mrest_list\u001b[0m\u001b[1;33m)\u001b[0m\u001b[1;33m\u001b[0m\u001b[0m\n\u001b[0m",
      "\u001b[1;31mTypeError\u001b[0m: dfs() missing 1 required positional argument: 'output'"
     ]
    }
   ],
   "source": [
    "dfs(rest_list)"
   ]
  },
  {
   "cell_type": "markdown",
   "metadata": {},
   "source": [
    "### 返回最小可能组合个数"
   ]
  },
  {
   "cell_type": "code",
   "execution_count": 8,
   "metadata": {
    "scrolled": true
   },
   "outputs": [
    {
     "name": "stdout",
     "output_type": "stream",
     "text": [
      "2 2\n",
      "3 3\n",
      "4 4\n",
      "4 1\n",
      "5 2\n",
      "5 2\n",
      "6 3\n",
      "6 3\n",
      "7 4\n",
      "7 4\n",
      "8 5\n",
      "8 2\n",
      "9 3\n",
      "9 3\n",
      "9 1\n",
      "10 2\n",
      "10 4\n",
      "10 2\n"
     ]
    },
    {
     "data": {
      "text/plain": [
       "2"
      ]
     },
     "execution_count": 8,
     "metadata": {},
     "output_type": "execute_result"
    }
   ],
   "source": [
    "def numsquare(n):\n",
    "    dp = [i for i in range(n+1)]\n",
    "    for i in range(2,n+1):\n",
    "        for j in range(1,int(i**(0.5))+1):\n",
    "            dp[i] = min(dp[i],dp[i-j*j]+1)\n",
    "            print(i,dp[i-j*j]+1)\n",
    "    return dp[-1]\n",
    "n=10\n",
    "numsquare(n)"
   ]
  },
  {
   "cell_type": "markdown",
   "metadata": {},
   "source": [
    "### 爬梯子 Climb stairs"
   ]
  },
  {
   "cell_type": "code",
   "execution_count": 6,
   "metadata": {},
   "outputs": [
    {
     "data": {
      "text/plain": [
       "7"
      ]
     },
     "execution_count": 6,
     "metadata": {},
     "output_type": "execute_result"
    }
   ],
   "source": [
    "def climb(n):\n",
    "    dp = [i for i in range(n+1)]\n",
    "    dp[n] = dp[n-1]+dp[n-2]\n",
    "    dp[0] = 0\n",
    "    dp[1] = 1\n",
    "    dp[2] = 2\n",
    "    return dp[n]\n",
    "n=5\n",
    "climb(n)"
   ]
  },
  {
   "cell_type": "markdown",
   "metadata": {},
   "source": [
    "### 深度遍历和广度遍历\n",
    "https://juejin.im/post/5bc932446fb9a05d147855de"
   ]
  },
  {
   "cell_type": "code",
   "execution_count": null,
   "metadata": {},
   "outputs": [],
   "source": [
    "#Given a binary tree, return the sum of values of its deepest leaves.\n",
    "#Input: root = [1,2,3,4,5,null,6,7,null,null,null,null,8]\n",
    "#Output: 15"
   ]
  },
  {
   "cell_type": "code",
   "execution_count": 93,
   "metadata": {},
   "outputs": [
    {
     "ename": "TypeError",
     "evalue": "deepestLeavesSum() missing 1 required positional argument: 'root'",
     "output_type": "error",
     "traceback": [
      "\u001b[1;31m---------------------------------------------------------------------------\u001b[0m",
      "\u001b[1;31mTypeError\u001b[0m                                 Traceback (most recent call last)",
      "\u001b[1;32m<ipython-input-93-ece3576e4103>\u001b[0m in \u001b[0;36m<module>\u001b[1;34m()\u001b[0m\n\u001b[0;32m     23\u001b[0m         \u001b[1;32mreturn\u001b[0m \u001b[0msum\u001b[0m\u001b[1;33m(\u001b[0m\u001b[0mres\u001b[0m\u001b[1;33m)\u001b[0m\u001b[1;33m\u001b[0m\u001b[0m\n\u001b[0;32m     24\u001b[0m \u001b[0mroot\u001b[0m \u001b[1;33m=\u001b[0m \u001b[1;33m[\u001b[0m\u001b[1;36m1\u001b[0m\u001b[1;33m,\u001b[0m\u001b[1;36m2\u001b[0m\u001b[1;33m,\u001b[0m\u001b[1;36m3\u001b[0m\u001b[1;33m,\u001b[0m\u001b[1;36m4\u001b[0m\u001b[1;33m,\u001b[0m\u001b[1;36m5\u001b[0m\u001b[1;33m,\u001b[0m\u001b[1;32mNone\u001b[0m\u001b[1;33m,\u001b[0m\u001b[1;36m6\u001b[0m\u001b[1;33m,\u001b[0m\u001b[1;36m7\u001b[0m\u001b[1;33m,\u001b[0m\u001b[1;32mNone\u001b[0m\u001b[1;33m,\u001b[0m\u001b[1;32mNone\u001b[0m\u001b[1;33m,\u001b[0m\u001b[1;32mNone\u001b[0m\u001b[1;33m,\u001b[0m\u001b[1;32mNone\u001b[0m\u001b[1;33m,\u001b[0m\u001b[1;36m8\u001b[0m\u001b[1;33m]\u001b[0m\u001b[1;33m\u001b[0m\u001b[0m\n\u001b[1;32m---> 25\u001b[1;33m \u001b[0mdeepestLeavesSum\u001b[0m\u001b[1;33m(\u001b[0m\u001b[1;33m[\u001b[0m\u001b[1;36m1\u001b[0m\u001b[1;33m,\u001b[0m\u001b[1;36m2\u001b[0m\u001b[1;33m,\u001b[0m\u001b[1;36m3\u001b[0m\u001b[1;33m,\u001b[0m\u001b[1;36m4\u001b[0m\u001b[1;33m,\u001b[0m\u001b[1;36m5\u001b[0m\u001b[1;33m,\u001b[0m\u001b[1;32mNone\u001b[0m\u001b[1;33m,\u001b[0m\u001b[1;36m6\u001b[0m\u001b[1;33m,\u001b[0m\u001b[1;36m7\u001b[0m\u001b[1;33m,\u001b[0m\u001b[1;32mNone\u001b[0m\u001b[1;33m,\u001b[0m\u001b[1;32mNone\u001b[0m\u001b[1;33m,\u001b[0m\u001b[1;32mNone\u001b[0m\u001b[1;33m,\u001b[0m\u001b[1;32mNone\u001b[0m\u001b[1;33m,\u001b[0m\u001b[1;36m8\u001b[0m\u001b[1;33m]\u001b[0m\u001b[1;33m)\u001b[0m\u001b[1;33m\u001b[0m\u001b[0m\n\u001b[0m",
      "\u001b[1;31mTypeError\u001b[0m: deepestLeavesSum() missing 1 required positional argument: 'root'"
     ]
    }
   ],
   "source": [
    "# Definition for a binary tree node.\n",
    "# class TreeNode:\n",
    "#     def __init__(self, x):\n",
    "#         self.val = x\n",
    "#         self.left = None\n",
    "#         self.right = None\n",
    "\n",
    "class Solution:\n",
    "    def deepestLeavesSum(self, root: TreeNode) -> int:\n",
    "        from collections import deque\n",
    "        if not root:\n",
    "            return 0\n",
    "        queue = deque([root])\n",
    "        while queue:\n",
    "            res = []\n",
    "            for i in range(len(queue)):\n",
    "                r = queue.popleft()\n",
    "                res.append(r.val)\n",
    "                if r.left:\n",
    "                    queue.append(r.left)\n",
    "                if r.right:\n",
    "                    queue.append(r.right)\n",
    "        return sum(res)\n",
    "root = [1,2,3,4,5,None,6,7,None,None,None,None,8]\n",
    "deepestLeavesSum([1,2,3,4,5,None,6,7,None,None,None,None,8])"
   ]
  },
  {
   "cell_type": "markdown",
   "metadata": {},
   "source": [
    "# Capital One"
   ]
  },
  {
   "cell_type": "code",
   "execution_count": 7,
   "metadata": {},
   "outputs": [
    {
     "name": "stdout",
     "output_type": "stream",
     "text": [
      "input1 2 3 5 5 \n",
      "1\n"
     ]
    }
   ],
   "source": [
    "strs = list(input(\"input\").split(','))\n",
    "tmp = []\n",
    "for i in strs:\n",
    "    tmp.append(i.upper())\n",
    "print(len(set(tmp)))\n"
   ]
  },
  {
   "cell_type": "code",
   "execution_count": 8,
   "metadata": {},
   "outputs": [
    {
     "name": "stdout",
     "output_type": "stream",
     "text": [
      "1,2,12\n",
      "[0]\n",
      "[1]\n",
      "[1, 2, 2, 3]\n",
      "0\n"
     ]
    }
   ],
   "source": [
    "def allFactor(n):\n",
    "    \"\"\"find the list of factor，exluding itself\"\"\"\n",
    "    if n <= 1: return [0]\n",
    "# if n <= 3: return [1]\n",
    "    tmp = n\n",
    "    rlist = [1]\n",
    "    i = 2\n",
    "    while i <= tmp:\n",
    "        if tmp % i == 0:\n",
    "            # find all factor\n",
    "            rlist.append(i)\n",
    "            tmp = tmp // i\n",
    "            i = 2\n",
    "            continue\n",
    "        i += 1\n",
    "    return rlist if n != rlist[-1] else rlist[:-1]\n",
    "\n",
    "ans = 0\n",
    "n = list(map(int,input().split(',')))\n",
    "for i in range(len(n)):\n",
    "    # if lengh factor list greater than 3, add all factor\n",
    "    cur_list = allFactor(n[i])\n",
    "    print(cur_list)\n",
    "    if len(cur_list) > 3:\n",
    "        continue\n",
    "    else:\n",
    "        if len(set(cur_list)) == 3:\n",
    "            ans = ans + n[i]\n",
    "\n",
    "print(ans)\n"
   ]
  },
  {
   "cell_type": "code",
   "execution_count": 18,
   "metadata": {},
   "outputs": [
    {
     "name": "stdout",
     "output_type": "stream",
     "text": [
      "3,6,7,9,8,21,100\n",
      "[1]\n",
      "[1, 2, 3]\n",
      "[1]\n",
      "[1, 3]\n",
      "[1, 2, 4]\n",
      "[1, 3, 7]\n",
      "[1, 2, 4, 5, 10, 20, 25, 50]\n",
      "35\n"
     ]
    }
   ],
   "source": [
    "def factorall(n):\n",
    "    a = [1]\n",
    "    tmp  = n\n",
    "    if n <=1 :\n",
    "        return [0]\n",
    "    i = 2\n",
    "    while i <=tmp:\n",
    "        if tmp % i == 0:\n",
    "            a.append(i)\n",
    "        i += 1\n",
    "    return a if n!=a[-1] else a[:-1]\n",
    "\n",
    "ans = 0\n",
    "n = list(map(int,input().split(\",\")))\n",
    "for i in range(len(n)):\n",
    "    cur_list = factorall(n[i])\n",
    "    print(cur_list)\n",
    "    if len(cur_list) >3:\n",
    "        continue\n",
    "    else:\n",
    "        if len(set(cur_list)) ==3:\n",
    "            ans += n[i]\n",
    "print(ans)"
   ]
  },
  {
   "cell_type": "code",
   "execution_count": null,
   "metadata": {},
   "outputs": [],
   "source": []
  }
 ],
 "metadata": {
  "kernelspec": {
   "display_name": "Python 3",
   "language": "python",
   "name": "python3"
  },
  "language_info": {
   "codemirror_mode": {
    "name": "ipython",
    "version": 3
   },
   "file_extension": ".py",
   "mimetype": "text/x-python",
   "name": "python",
   "nbconvert_exporter": "python",
   "pygments_lexer": "ipython3",
   "version": "3.6.5"
  },
  "toc": {
   "base_numbering": 1,
   "nav_menu": {},
   "number_sections": true,
   "sideBar": true,
   "skip_h1_title": false,
   "title_cell": "Table of Contents",
   "title_sidebar": "Contents",
   "toc_cell": false,
   "toc_position": {},
   "toc_section_display": true,
   "toc_window_display": true
  }
 },
 "nbformat": 4,
 "nbformat_minor": 2
}
